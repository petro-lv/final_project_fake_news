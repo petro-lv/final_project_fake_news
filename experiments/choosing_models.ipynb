{
  "metadata": {
    "colab": {
      "provenance": [],
      "collapsed_sections": [
        "1F_KvE3-GMKY",
        "XwNPL0Yj896x",
        "Cz84VsAJ9ZBK"
      ]
    },
    "kernelspec": {
      "name": "python3",
      "display_name": "Python 3",
      "language": "python"
    },
    "language_info": {
      "name": "python",
      "version": "3.7.12",
      "mimetype": "text/x-python",
      "codemirror_mode": {
        "name": "ipython",
        "version": 3
      },
      "pygments_lexer": "ipython3",
      "nbconvert_exporter": "python",
      "file_extension": ".py"
    },
    "accelerator": "GPU",
    "gpuClass": "standard"
  },
  "nbformat_minor": 0,
  "nbformat": 4,
  "cells": [
    {
      "cell_type": "code",
      "source": [
        "pip install sentence_transformers\n"
      ],
      "metadata": {
        "id": "kqAA2PMQRMzA",
        "pycharm": {
          "name": "#%%\n"
        },
        "execution": {
          "iopub.status.busy": "2023-03-04T14:28:13.360782Z",
          "iopub.execute_input": "2023-03-04T14:28:13.362842Z",
          "iopub.status.idle": "2023-03-04T14:28:28.506324Z",
          "shell.execute_reply.started": "2023-03-04T14:28:13.362811Z",
          "shell.execute_reply": "2023-03-04T14:28:28.505008Z"
        },
        "jupyter": {
          "outputs_hidden": true
        },
        "trusted": true
      },
      "execution_count": null,
      "outputs": []
    },
    {
      "cell_type": "code",
      "source": [
        "import os\n",
        "import calendar\n",
        "\n",
        "import pandas as pd\n",
        "import numpy as np \n",
        "import gensim\n",
        "import nltk\n",
        "import spacy\n",
        "\n",
        "from matplotlib import pyplot as plt\n",
        "from nltk.corpus import stopwords\n",
        "from wordcloud import WordCloud, STOPWORDS\n",
        "from sklearn.feature_extraction.text import CountVectorizer, TfidfVectorizer\n",
        "from sentence_transformers import SentenceTransformer, util\n",
        "from sklearn.model_selection import train_test_split, StratifiedKFold, TimeSeriesSplit\n",
        "from sklearn.pipeline import Pipeline\n",
        "from sklearn.linear_model import LogisticRegression\n",
        "from sklearn.naive_bayes import MultinomialNB\n",
        "from sklearn.metrics import roc_auc_score, accuracy_score\n",
        "from sklearn.preprocessing import StandardScaler, MinMaxScaler\n",
        "\n",
        "%matplotlib inline"
      ],
      "metadata": {
        "id": "MyGllYNmMiQ4",
        "pycharm": {
          "name": "#%%\n"
        },
        "execution": {
          "iopub.status.busy": "2023-03-04T14:28:37.456499Z",
          "iopub.execute_input": "2023-03-04T14:28:37.457222Z",
          "iopub.status.idle": "2023-03-04T14:29:02.570500Z",
          "shell.execute_reply.started": "2023-03-04T14:28:37.457162Z",
          "shell.execute_reply": "2023-03-04T14:29:02.569396Z"
        },
        "trusted": true
      },
      "execution_count": null,
      "outputs": []
    },
    {
      "cell_type": "code",
      "source": [
        "df_train  = pd.read_csv('/kaggle/input/propaganda-detection-our-data/fake_detection_df_train.csv')\n",
        "df_test  = pd.read_csv(\"/kaggle/input/propaganda-detection-our-data/fake_detection_df_test.csv\")\n",
        "df_val  = pd.read_csv(\"/kaggle/input/propaganda-detection-our-data/fake_detection_df_val.csv\")"
      ],
      "metadata": {
        "id": "hexrwg16RbFL",
        "pycharm": {
          "name": "#%%\n"
        },
        "execution": {
          "iopub.status.busy": "2023-03-04T17:35:19.579923Z",
          "iopub.execute_input": "2023-03-04T17:35:19.581172Z",
          "iopub.status.idle": "2023-03-04T17:35:19.615274Z",
          "shell.execute_reply.started": "2023-03-04T17:35:19.581128Z",
          "shell.execute_reply": "2023-03-04T17:35:19.614299Z"
        },
        "trusted": true
      },
      "execution_count": null,
      "outputs": []
    },
    {
      "cell_type": "code",
      "source": [
        "df_train"
      ],
      "metadata": {
        "id": "mN9oHBJcT8FA",
        "pycharm": {
          "name": "#%%\n"
        }
      },
      "execution_count": null,
      "outputs": []
    },
    {
      "cell_type": "code",
      "source": [
        "df_train[\"label\"].value_counts()"
      ],
      "metadata": {
        "colab": {
          "base_uri": "https://localhost:8080/"
        },
        "id": "hO-TGgrvUFZb",
        "outputId": "6020c303-a4b5-43f6-8b04-cf5f25d37db7",
        "pycharm": {
          "name": "#%%\n"
        },
        "execution": {
          "iopub.status.busy": "2023-03-03T19:00:11.597411Z",
          "iopub.execute_input": "2023-03-03T19:00:11.597860Z",
          "iopub.status.idle": "2023-03-03T19:00:11.615607Z",
          "shell.execute_reply.started": "2023-03-03T19:00:11.597819Z",
          "shell.execute_reply": "2023-03-03T19:00:11.614657Z"
        },
        "trusted": true
      },
      "execution_count": null,
      "outputs": [
        {
          "execution_count": 4,
          "output_type": "execute_result",
          "data": {
            "text/plain": "True     544\nFalse    336\nName: label, dtype: int64"
          },
          "metadata": {}
        }
      ]
    },
    {
      "cell_type": "code",
      "source": [
        "from nltk.corpus import stopwords\n",
        "import re\n",
        "\n",
        "nltk.download('stopwords')\n",
        "stop_words = stopwords.words('russian')\n",
        "\n",
        "def preprocess(text, join_back=True):\n",
        "    text =  re.sub(r'\\n', '', text)\n",
        "    text = re.sub(r'[^\\w\\s]','', text)\n",
        "    text = re.sub(r'https?:\\/\\/.*[\\r\\n]*', '', text, flags=re.MULTILINE)\n",
        "    text = re.sub(r'[_\"\\-;%()|+&=*%.,!?:#$@\\[\\]/]', ' ', text)\n",
        "    text = text.lower()\n",
        "\n",
        "    result = []\n",
        "    for token in gensim.utils.simple_preprocess(text):\n",
        "        if token not in stop_words:\n",
        "            result.append(token)\n",
        "    if join_back:\n",
        "        result = \" \".join(result)\n",
        "    return result\n"
      ],
      "metadata": {
        "colab": {
          "base_uri": "https://localhost:8080/"
        },
        "id": "QZgHD7y11CJ4",
        "outputId": "d24f0d73-aae0-4cce-eaa3-b71796fda03c",
        "pycharm": {
          "name": "#%%\n"
        },
        "execution": {
          "iopub.status.busy": "2023-03-04T17:35:26.622445Z",
          "iopub.execute_input": "2023-03-04T17:35:26.623058Z",
          "iopub.status.idle": "2023-03-04T17:35:26.632106Z",
          "shell.execute_reply.started": "2023-03-04T17:35:26.623022Z",
          "shell.execute_reply": "2023-03-04T17:35:26.630992Z"
        },
        "trusted": true
      },
      "execution_count": null,
      "outputs": [
        {
          "name": "stdout",
          "text": "[nltk_data] Downloading package stopwords to /usr/share/nltk_data...\n[nltk_data]   Package stopwords is already up-to-date!\n",
          "output_type": "stream"
        }
      ]
    },
    {
      "cell_type": "code",
      "source": [
        "df_train[\"text_clean\"] = df_train[\"text\"].apply(preprocess)\n",
        "df_test[\"text_clean\"] = df_test[\"text\"].apply(preprocess)\n",
        "df_val[\"text_clean\"] = df_val[\"text\"].apply(preprocess)"
      ],
      "metadata": {
        "id": "ueNWwOWoJ7dd",
        "pycharm": {
          "name": "#%%\n"
        },
        "execution": {
          "iopub.status.busy": "2023-03-04T17:35:44.144415Z",
          "iopub.execute_input": "2023-03-04T17:35:44.145163Z",
          "iopub.status.idle": "2023-03-04T17:35:44.306603Z",
          "shell.execute_reply.started": "2023-03-04T17:35:44.145123Z",
          "shell.execute_reply": "2023-03-04T17:35:44.305627Z"
        },
        "trusted": true
      },
      "execution_count": null,
      "outputs": []
    },
    {
      "cell_type": "code",
      "source": [
        "df_train = pd.concat([df_train, df_val], axis=0)\n",
        "df_train"
      ],
      "metadata": {
        "id": "e8iFzkVr-vt-",
        "execution": {
          "iopub.status.busy": "2023-03-04T17:35:48.239818Z",
          "iopub.execute_input": "2023-03-04T17:35:48.240720Z",
          "iopub.status.idle": "2023-03-04T17:35:48.257331Z",
          "shell.execute_reply.started": "2023-03-04T17:35:48.240675Z",
          "shell.execute_reply": "2023-03-04T17:35:48.256111Z"
        },
        "trusted": true,
        "outputId": "a7630df9-01e2-4bfd-bc69-1da2d0dc5c50"
      },
      "execution_count": null,
      "outputs": [
        {
          "execution_count": 118,
          "output_type": "execute_result",
          "data": {
            "text/plain": "              id                                               text  label  \\\n0    00000_03514  Чернигов прилет во многоэтажку. Говорят русска...   True   \n1    00002_06059  Председатель Следственного комитета РФ Алексан...   True   \n2    00003_08645         Все сейчас массово хотят уехать со Львова.   True   \n3    00004_00901  «К военным подошли бабушки и попросили убрать ...   True   \n4    00006_06251  С уважение отношусь к Лобаеву, но Владислав, е...   True   \n..           ...                                                ...    ...   \n122  08848_08668  Принято решение отключать РФ от SWIFT - МИД Ук...   True   \n123  08855_04438  В ДНР заявили, что украинские силовики обстрел...   True   \n124  08873_06191  Франция намерена принять меры по борьбе с расп...  False   \n125  08878_04343  Макрон созывает на 19:00 мск Совет обороны стр...  False   \n126  08895_07877  Байден заявил, что заявления Швеции и Финлянди...  False   \n\n                                            text_clean  \n0    чернигов прилет многоэтажку говорят русская ра...  \n1    председатель следственного комитета рф алексан...  \n2                          массово хотят уехать львова  \n3    военным подошли бабушки попросили убрать аллею...  \n4    уважение отношусь лобаеву владислав вопросы пр...  \n..                                                 ...  \n122  принято решение отключать рф swift мид украины...  \n123  днр заявили украинские силовики обстреляли сел...  \n124  франция намерена принять меры борьбе российски...  \n125  макрон созывает мск совет обороны страны ситуа...  \n126  байден заявил заявления швеции финляндии относ...  \n\n[1007 rows x 4 columns]",
            "text/html": "<div>\n<style scoped>\n    .dataframe tbody tr th:only-of-type {\n        vertical-align: middle;\n    }\n\n    .dataframe tbody tr th {\n        vertical-align: top;\n    }\n\n    .dataframe thead th {\n        text-align: right;\n    }\n</style>\n<table border=\"1\" class=\"dataframe\">\n  <thead>\n    <tr style=\"text-align: right;\">\n      <th></th>\n      <th>id</th>\n      <th>text</th>\n      <th>label</th>\n      <th>text_clean</th>\n    </tr>\n  </thead>\n  <tbody>\n    <tr>\n      <th>0</th>\n      <td>00000_03514</td>\n      <td>Чернигов прилет во многоэтажку. Говорят русска...</td>\n      <td>True</td>\n      <td>чернигов прилет многоэтажку говорят русская ра...</td>\n    </tr>\n    <tr>\n      <th>1</th>\n      <td>00002_06059</td>\n      <td>Председатель Следственного комитета РФ Алексан...</td>\n      <td>True</td>\n      <td>председатель следственного комитета рф алексан...</td>\n    </tr>\n    <tr>\n      <th>2</th>\n      <td>00003_08645</td>\n      <td>Все сейчас массово хотят уехать со Львова.</td>\n      <td>True</td>\n      <td>массово хотят уехать львова</td>\n    </tr>\n    <tr>\n      <th>3</th>\n      <td>00004_00901</td>\n      <td>«К военным подошли бабушки и попросили убрать ...</td>\n      <td>True</td>\n      <td>военным подошли бабушки попросили убрать аллею...</td>\n    </tr>\n    <tr>\n      <th>4</th>\n      <td>00006_06251</td>\n      <td>С уважение отношусь к Лобаеву, но Владислав, е...</td>\n      <td>True</td>\n      <td>уважение отношусь лобаеву владислав вопросы пр...</td>\n    </tr>\n    <tr>\n      <th>...</th>\n      <td>...</td>\n      <td>...</td>\n      <td>...</td>\n      <td>...</td>\n    </tr>\n    <tr>\n      <th>122</th>\n      <td>08848_08668</td>\n      <td>Принято решение отключать РФ от SWIFT - МИД Ук...</td>\n      <td>True</td>\n      <td>принято решение отключать рф swift мид украины...</td>\n    </tr>\n    <tr>\n      <th>123</th>\n      <td>08855_04438</td>\n      <td>В ДНР заявили, что украинские силовики обстрел...</td>\n      <td>True</td>\n      <td>днр заявили украинские силовики обстреляли сел...</td>\n    </tr>\n    <tr>\n      <th>124</th>\n      <td>08873_06191</td>\n      <td>Франция намерена принять меры по борьбе с расп...</td>\n      <td>False</td>\n      <td>франция намерена принять меры борьбе российски...</td>\n    </tr>\n    <tr>\n      <th>125</th>\n      <td>08878_04343</td>\n      <td>Макрон созывает на 19:00 мск Совет обороны стр...</td>\n      <td>False</td>\n      <td>макрон созывает мск совет обороны страны ситуа...</td>\n    </tr>\n    <tr>\n      <th>126</th>\n      <td>08895_07877</td>\n      <td>Байден заявил, что заявления Швеции и Финлянди...</td>\n      <td>False</td>\n      <td>байден заявил заявления швеции финляндии относ...</td>\n    </tr>\n  </tbody>\n</table>\n<p>1007 rows × 4 columns</p>\n</div>"
          },
          "metadata": {}
        }
      ]
    },
    {
      "cell_type": "code",
      "source": [
        "import warnings"
      ],
      "metadata": {
        "id": "AGd8djwZu_ii",
        "pycharm": {
          "name": "#%%\n"
        },
        "execution": {
          "iopub.status.busy": "2023-03-04T14:31:24.661772Z",
          "iopub.execute_input": "2023-03-04T14:31:24.662155Z",
          "iopub.status.idle": "2023-03-04T14:31:24.667867Z",
          "shell.execute_reply.started": "2023-03-04T14:31:24.662122Z",
          "shell.execute_reply": "2023-03-04T14:31:24.666725Z"
        },
        "trusted": true
      },
      "execution_count": null,
      "outputs": []
    },
    {
      "cell_type": "code",
      "source": [
        "def testing(scaler, classifier):\n",
        "  model = Pipeline([\n",
        "        (\"scaler\", scaler),\n",
        "        (\"classifier\", classifier)\n",
        "    ])\n",
        "  model.fit(df_train[\"text_clean\"], df_train[\"label\"])\n",
        "  y_pred = model.predict_proba(df_test[\"text_clean\"])[:,1]\n",
        "  print(\"FINAL TESTING\")\n",
        "  print(\"ROC AUC = \",roc_auc_score(df_test[\"label\"].values,  y_pred))\n",
        "  print(\"accuracy :\" ,accuracy_score(df_test[\"label\"].values, model.predict(df_test[\"text_clean\"])))"
      ],
      "metadata": {
        "id": "i6ZLk6FvDTvV",
        "pycharm": {
          "name": "#%%\n"
        },
        "execution": {
          "iopub.status.busy": "2023-03-03T19:07:58.429327Z",
          "iopub.execute_input": "2023-03-03T19:07:58.429685Z",
          "iopub.status.idle": "2023-03-03T19:07:58.437006Z",
          "shell.execute_reply.started": "2023-03-03T19:07:58.429653Z",
          "shell.execute_reply": "2023-03-03T19:07:58.435563Z"
        },
        "trusted": true
      },
      "execution_count": null,
      "outputs": []
    },
    {
      "cell_type": "code",
      "source": [
        "def testing_embs(scaler, classifier):\n",
        "  model = Pipeline([\n",
        "        (\"scaler\", scaler),\n",
        "        (\"classifier\", classifier)\n",
        "    ])\n",
        "  model.fit(train_embs, df_train[\"label\"])\n",
        "  y_pred = model.predict_proba(test_embs)[:,1]\n",
        "  print(\"FINAL TESTING\")\n",
        "  print(\"ROC AUC = \",roc_auc_score(df_test[\"label\"].values,  y_pred))\n",
        "  print(\"accuracy :\" ,accuracy_score(df_test[\"label\"].values, model.predict(test_embs)))"
      ],
      "metadata": {
        "id": "SgXsc-gWDFdJ",
        "pycharm": {
          "name": "#%%\n"
        },
        "execution": {
          "iopub.status.busy": "2023-03-04T14:33:32.779735Z",
          "iopub.execute_input": "2023-03-04T14:33:32.780915Z",
          "iopub.status.idle": "2023-03-04T14:33:32.787690Z",
          "shell.execute_reply.started": "2023-03-04T14:33:32.780873Z",
          "shell.execute_reply": "2023-03-04T14:33:32.786595Z"
        },
        "trusted": true
      },
      "execution_count": null,
      "outputs": []
    },
    {
      "cell_type": "code",
      "source": [],
      "metadata": {
        "id": "PJfms4DExoCx",
        "pycharm": {
          "name": "#%%\n"
        }
      },
      "execution_count": null,
      "outputs": []
    },
    {
      "cell_type": "code",
      "source": [
        "\n",
        "!python -m spacy download ru_core_news_lg\n",
        "\n",
        " "
      ],
      "metadata": {
        "id": "na709QOPiORs",
        "pycharm": {
          "name": "#%%\n"
        }
      },
      "execution_count": null,
      "outputs": []
    },
    {
      "cell_type": "code",
      "source": [
        "import numpy as np\n",
        "import spacy\n",
        "from sklearn.base import BaseEstimator, TransformerMixin\n",
        "\n",
        "spacy_nlp = spacy.load('ru_core_news_lg')\n",
        "# spacy_doc = spacy_nlp(df['comment_text_clean'][0])\n",
        "\n",
        "class SpacyEmbeddings(TransformerMixin,BaseEstimator):\n",
        "    def __init__(self, model=spacy_nlp):\n",
        "        self.model = model\n",
        "\n",
        "    def fit(self,X,y=None):\n",
        "        return self\n",
        "\n",
        "    def transform(self,X):\n",
        "        data = list(spacy_nlp(doc).vector.reshape(1,-1) for doc in X)\n",
        "        return np.concatenate(data)"
      ],
      "metadata": {
        "id": "epkD2W-mmXZi",
        "pycharm": {
          "name": "#%%\n"
        }
      },
      "execution_count": null,
      "outputs": []
    },
    {
      "cell_type": "code",
      "source": [
        "train_embs = SpacyEmbeddings().fit_transform(df_train[\"text_clean\"].to_list())\n",
        "test_embs = SpacyEmbeddings().fit_transform(df_test[\"text_clean\"].to_list())"
      ],
      "metadata": {
        "id": "hHIemQOn7wGS",
        "pycharm": {
          "name": "#%%\n"
        }
      },
      "execution_count": null,
      "outputs": []
    },
    {
      "cell_type": "markdown",
      "source": [
        "# **Log Regression**"
      ],
      "metadata": {
        "id": "G5WdMRWtAeFi",
        "pycharm": {
          "name": "#%% md\n"
        }
      }
    },
    {
      "cell_type": "code",
      "source": [
        "from sklearn.model_selection import GridSearchCV\n",
        "\n",
        "def search_hyper_p_embs_regr(scaler, classifier):\n",
        "\n",
        "  model = Pipeline([\n",
        "          (\"scaler\", scaler),\n",
        "          (\"classifier\", classifier)\n",
        "      ])\n",
        "\n",
        "  # print(model.get_params().keys())\n",
        "\n",
        "\n",
        "\n",
        "  params={\n",
        "      'classifier__C':[0.0001, 0.001, 0.01, 0.1, 1, 2, 3, 4, 5, 10],\n",
        "      'classifier__max_iter':[1000, 10000],\n",
        "      'classifier__penalty':['l1',  'l2'],\n",
        "      'classifier__solver': ['lbfgs', 'newton-cg']\n",
        "  }\n",
        "    \n",
        "\n",
        "\n",
        "  grid_search = GridSearchCV(model,\n",
        "                          param_grid=params,\n",
        "                          cv=5,\n",
        "                          scoring='roc_auc'\n",
        "                          #  verbose=1, \n",
        "                          )\n",
        "  with warnings.catch_warnings():\n",
        "    warnings.filterwarnings(\"ignore\")\n",
        "    grid_search.fit(train_embs, df_train[\"label\"])\n",
        "  return grid_search.best_params_, grid_search.best_score_"
      ],
      "metadata": {
        "id": "k-4fyie_3thj",
        "pycharm": {
          "name": "#%%\n"
        },
        "execution": {
          "iopub.status.busy": "2023-03-04T14:33:40.760269Z",
          "iopub.execute_input": "2023-03-04T14:33:40.760892Z",
          "iopub.status.idle": "2023-03-04T14:33:40.768838Z",
          "shell.execute_reply.started": "2023-03-04T14:33:40.760843Z",
          "shell.execute_reply": "2023-03-04T14:33:40.767698Z"
        },
        "trusted": true
      },
      "execution_count": null,
      "outputs": []
    },
    {
      "cell_type": "code",
      "source": [
        "def search_hyper_p_regr(vectorizer, classifier):\n",
        "\n",
        "  model = Pipeline([\n",
        "          (\"vectorizer\", vectorizer),\n",
        "          (\"classifier\", classifier)\n",
        "      ])\n",
        "  \n",
        "  params={\n",
        "      'classifier__C':[0.0001, 0.001, 0.01, 0.1, 1, 2, 3, 4, 5, 10],\n",
        "      'classifier__max_iter':[1000, 10000],\n",
        "      'classifier__penalty':['l1',  'l2'],\n",
        "      'classifier__solver': ['lbfgs', 'newton-cg']\n",
        "  }\n",
        "  \n",
        "\n",
        "  grid_search = GridSearchCV(model,\n",
        "                          param_grid=params,\n",
        "                          cv=5,\n",
        "                          verbose=1, scoring='roc_auc',\n",
        "                          )\n",
        "  with warnings.catch_warnings():\n",
        "    warnings.filterwarnings(\"ignore\")\n",
        "\n",
        "    grid_search.fit(df_train[\"text_clean\"], df_train[\"label\"])\n",
        "\n",
        "  return grid_search.best_params_, grid_search.best_score_"
      ],
      "metadata": {
        "id": "kQOBi1UE-7PY",
        "pycharm": {
          "name": "#%%\n"
        }
      },
      "execution_count": null,
      "outputs": []
    },
    {
      "cell_type": "markdown",
      "source": [
        "## BOW"
      ],
      "metadata": {
        "id": "1F_KvE3-GMKY",
        "pycharm": {
          "name": "#%% md\n"
        }
      }
    },
    {
      "cell_type": "code",
      "source": [
        "parametrs, acc = search_hyper_p_regr(CountVectorizer(), LogisticRegression())\n",
        "print(parametrs, acc)\n",
        "param_1 , param_2, param_3, param_4 = parametrs.values() \n",
        "# testing(all_models, max_iter=1000)\n",
        "\n",
        "testing(CountVectorizer(), LogisticRegression(C=param_1, max_iter=param_2, penalty=param_3, solver=param_4))\n",
        "\n"
      ],
      "metadata": {
        "colab": {
          "base_uri": "https://localhost:8080/"
        },
        "id": "NH9KR-5cbpJ5",
        "outputId": "8ac13a9d-df69-4fe6-b52a-633a1137d577",
        "pycharm": {
          "name": "#%%\n"
        }
      },
      "execution_count": null,
      "outputs": [
        {
          "output_type": "stream",
          "name": "stdout",
          "text": "Fitting 5 folds for each of 80 candidates, totalling 400 fits\n\n{'classifier__C': 0.1, 'classifier__max_iter': 1000, 'classifier__penalty': 'l2', 'classifier__solver': 'lbfgs'} 0.724014894347594\n\nFINAL TESTING\n\nROC AUC =  0.7362880337931489\n\naccuracy : 0.6370967741935484\n"
        }
      ]
    },
    {
      "cell_type": "markdown",
      "source": [
        "## TF-IDF "
      ],
      "metadata": {
        "id": "XwNPL0Yj896x",
        "pycharm": {
          "name": "#%% md\n"
        }
      }
    },
    {
      "cell_type": "code",
      "source": [
        "parametrs, acc = search_hyper_p_regr(TfidfVectorizer(), LogisticRegression())\n",
        "print(parametrs, acc)\n",
        "param_1 , param_2, param_3, param_4 = parametrs.values() \n",
        "\n",
        "testing(CountVectorizer(), LogisticRegression(C=param_1, max_iter=param_2, penalty=param_3, solver=param_4))\n"
      ],
      "metadata": {
        "colab": {
          "base_uri": "https://localhost:8080/"
        },
        "id": "_UYmSdr9l8Al",
        "outputId": "b6f91bfb-7737-4393-9354-450ccc28d777",
        "pycharm": {
          "name": "#%%\n"
        }
      },
      "execution_count": null,
      "outputs": [
        {
          "output_type": "stream",
          "name": "stdout",
          "text": "Fitting 5 folds for each of 80 candidates, totalling 400 fits\n\n{'classifier__C': 0.01, 'classifier__max_iter': 1000, 'classifier__penalty': 'l2', 'classifier__solver': 'lbfgs'} 0.6990285948085322\n\n<class 'float'>\n\nFINAL TESTING\n\nROC AUC =  0.7267177084020857\n\naccuracy : 0.5604838709677419\n"
        }
      ]
    },
    {
      "cell_type": "markdown",
      "source": [
        "## SPACY "
      ],
      "metadata": {
        "id": "Cz84VsAJ9ZBK",
        "pycharm": {
          "name": "#%% md\n"
        }
      }
    },
    {
      "cell_type": "code",
      "source": [
        "parametrs, acc = search_hyper_p_embs_regr(StandardScaler(), LogisticRegression())\n",
        "print(parametrs, acc)\n",
        "param_1 , param_2, param_3, param_4 = parametrs.values() \n",
        "\n",
        "testing_embs(StandardScaler(), LogisticRegression(C=param_1, max_iter=param_2, penalty=param_3, solver=param_4))"
      ],
      "metadata": {
        "colab": {
          "base_uri": "https://localhost:8080/"
        },
        "id": "BlD4DsVLDciY",
        "outputId": "e1d83f71-2876-4733-d967-c5ce3bf05993",
        "pycharm": {
          "name": "#%%\n"
        }
      },
      "execution_count": null,
      "outputs": [
        {
          "output_type": "stream",
          "name": "stdout",
          "text": "{'classifier__C': 0.001, 'classifier__max_iter': 1000, 'classifier__penalty': 'l2', 'classifier__solver': 'lbfgs'} 0.6848682436292485\n\nFINAL TESTING\n\nROC AUC =  0.7325919081248762\n\naccuracy : 0.6370967741935484\n"
        }
      ]
    },
    {
      "cell_type": "code",
      "source": [
        "parametrs, acc = search_hyper_p_embs_regr(MinMaxScaler(), LogisticRegression())\n",
        "print(parametrs, acc)\n",
        "param_1 , param_2, param_3, param_4 = parametrs.values() \n",
        "\n",
        "testing_embs(MinMaxScaler(), LogisticRegression(C=param_1, max_iter=param_2, penalty=param_3, solver=param_4))"
      ],
      "metadata": {
        "colab": {
          "base_uri": "https://localhost:8080/"
        },
        "id": "rrfPnnLeD7BH",
        "outputId": "39469d95-ffc9-4753-fb56-95b0d101caf7",
        "pycharm": {
          "name": "#%%\n"
        }
      },
      "execution_count": null,
      "outputs": [
        {
          "output_type": "stream",
          "name": "stdout",
          "text": "{'classifier__C': 0.1, 'classifier__max_iter': 1000, 'classifier__penalty': 'l2', 'classifier__solver': 'newton-cg'} 0.6847322309421889\n\nFINAL TESTING\n\nROC AUC =  0.7295558048973665\n\naccuracy : 0.6491935483870968\n"
        },
        {
          "output_type": "stream",
          "name": "stderr",
          "text": "/usr/local/lib/python3.8/dist-packages/scipy/optimize/linesearch.py:327: LineSearchWarning: The line search algorithm did not converge\n\n  warn('The line search algorithm did not converge', LineSearchWarning)\n\n/usr/local/lib/python3.8/dist-packages/sklearn/utils/optimize.py:203: UserWarning: Line Search failed\n\n  warnings.warn(\"Line Search failed\")\n"
        }
      ]
    },
    {
      "cell_type": "markdown",
      "source": [
        "## Sentence Transformers"
      ],
      "metadata": {
        "id": "k85Gju_ExyQn",
        "pycharm": {
          "name": "#%% md\n"
        }
      }
    },
    {
      "cell_type": "markdown",
      "source": [
        "**distiluse-base-multilingual-cased-v1**"
      ],
      "metadata": {
        "id": "ZBhydhm1g2oH"
      }
    },
    {
      "cell_type": "code",
      "source": [
        "import torch\n",
        "# torch.cuda.is_available()\n",
        "     \n",
        "from sentence_transformers import SentenceTransformer\n",
        "\n",
        "sent_tr = SentenceTransformer('distiluse-base-multilingual-cased-v1',device=\"cpu\")\n",
        "\n",
        "train_embs = sent_tr.encode(df_train[\"text_clean\"].to_list())\n",
        "test_embs = sent_tr.encode(df_test[\"text_clean\"].to_list())"
      ],
      "metadata": {
        "id": "wa4JTrvyiou7",
        "pycharm": {
          "name": "#%%\n"
        },
        "execution": {
          "iopub.status.busy": "2023-03-04T16:06:27.083058Z",
          "iopub.execute_input": "2023-03-04T16:06:27.084015Z",
          "iopub.status.idle": "2023-03-04T16:07:25.942841Z",
          "shell.execute_reply.started": "2023-03-04T16:06:27.083964Z",
          "shell.execute_reply": "2023-03-04T16:07:25.941655Z"
        },
        "trusted": true
      },
      "execution_count": null,
      "outputs": []
    },
    {
      "cell_type": "code",
      "source": [
        "parametrs, acc = search_hyper_p_embs_regr(StandardScaler(), LogisticRegression())\n",
        "print(parametrs, acc)\n",
        "param_1 , param_2, param_3, param_4 = parametrs.values() \n",
        "\n",
        "testing_embs(StandardScaler(), LogisticRegression(C=param_1, max_iter=param_2, penalty=param_3, solver=param_4))"
      ],
      "metadata": {
        "colab": {
          "base_uri": "https://localhost:8080/"
        },
        "id": "8X-dopgFx23F",
        "outputId": "a5ea1da4-ff68-4c09-8a4f-4a8ab3e470f7",
        "pycharm": {
          "name": "#%%\n"
        },
        "execution": {
          "iopub.status.busy": "2023-03-04T15:44:12.066010Z",
          "iopub.execute_input": "2023-03-04T15:44:12.066918Z",
          "iopub.status.idle": "2023-03-04T15:44:51.740791Z",
          "shell.execute_reply.started": "2023-03-04T15:44:12.066869Z",
          "shell.execute_reply": "2023-03-04T15:44:51.739422Z"
        },
        "trusted": true
      },
      "execution_count": null,
      "outputs": [
        {
          "name": "stdout",
          "text": "{'classifier__C': 0.001, 'classifier__max_iter': 1000, 'classifier__penalty': 'l2', 'classifier__solver': 'lbfgs'} 0.7511882477454633\nFINAL TESTING\nROC AUC =  0.7792554946868193\naccuracy : 0.6693548387096774\n",
          "output_type": "stream"
        }
      ]
    },
    {
      "cell_type": "code",
      "source": [
        "parametrs, acc = search_hyper_p_embs_regr(MinMaxScaler(), LogisticRegression())\n",
        "print(parametrs, acc)\n",
        "param_1 , param_2, param_3, param_4 = parametrs.values() \n",
        "\n",
        "testing_embs(MinMaxScaler(), LogisticRegression(C=param_1, max_iter=param_2, penalty=param_3, solver=param_4))"
      ],
      "metadata": {
        "colab": {
          "base_uri": "https://localhost:8080/"
        },
        "id": "EElyhzw31VZZ",
        "outputId": "e637ecd0-9917-405e-d680-8dbbe50728f4",
        "pycharm": {
          "name": "#%%\n"
        }
      },
      "execution_count": null,
      "outputs": [
        {
          "output_type": "stream",
          "name": "stdout",
          "text": "{'classifier__C': 0.1, 'classifier__max_iter': 1000, 'classifier__penalty': 'l2', 'classifier__solver': 'newton-cg'} 0.7550270026613353\n\nFINAL TESTING\n\nROC AUC =  0.7772094251204541\n\naccuracy : 0.6774193548387096\n"
        }
      ]
    },
    {
      "cell_type": "markdown",
      "source": [
        "another model  - sberbank-ai/sbert_large_nlu_ru"
      ],
      "metadata": {
        "id": "emPZqD0C9uKJ"
      }
    },
    {
      "cell_type": "code",
      "source": [
        "import torch\n",
        "# torch.cuda.is_available()\n",
        "     \n",
        "from sentence_transformers import SentenceTransformer\n",
        "\n",
        "sent_tr = SentenceTransformer('sberbank-ai/sbert_large_nlu_ru',device=\"cuda\")\n",
        "\n",
        "train_embs = sent_tr.encode(df_train[\"text_clean\"].to_list())\n",
        "test_embs = sent_tr.encode(df_test[\"text_clean\"].to_list())"
      ],
      "metadata": {
        "id": "yBstutnD9tBJ"
      },
      "execution_count": null,
      "outputs": []
    },
    {
      "cell_type": "code",
      "source": [
        "parametrs, acc = search_hyper_p_embs_regr(StandardScaler(), LogisticRegression())\n",
        "print(parametrs, acc)\n",
        "param_1 , param_2, param_3, param_4 = parametrs.values() \n",
        "\n",
        "testing_embs(StandardScaler(), LogisticRegression(C=param_1, max_iter=param_2, penalty=param_3, solver=param_4))"
      ],
      "metadata": {
        "colab": {
          "base_uri": "https://localhost:8080/"
        },
        "id": "stxYR6w697v3",
        "outputId": "bc28cf9b-c75b-4178-faf9-b8823fc22e1e"
      },
      "execution_count": null,
      "outputs": [
        {
          "output_type": "stream",
          "name": "stdout",
          "text": "{'classifier__C': 0.001, 'classifier__max_iter': 1000, 'classifier__penalty': 'l2', 'classifier__solver': 'lbfgs'} 0.7711695279253854\n\nFINAL TESTING\n\nROC AUC =  0.7890898290541879\n\naccuracy : 0.7137096774193549\n"
        }
      ]
    },
    {
      "cell_type": "markdown",
      "source": [
        "**DeepPavlov/rubert-base-cased**"
      ],
      "metadata": {
        "id": "HqE--8oRJUJv"
      }
    },
    {
      "cell_type": "code",
      "source": [
        "import torch\n",
        "# torch.cuda.is_available()\n",
        "     \n",
        "from sentence_transformers import SentenceTransformer\n",
        "\n",
        "sent_tr = SentenceTransformer('DeepPavlov/rubert-base-cased',device=\"cuda\")\n",
        "\n",
        "train_embs = sent_tr.encode(df_train[\"text_clean\"].to_list())\n",
        "test_embs = sent_tr.encode(df_test[\"text_clean\"].to_list())"
      ],
      "metadata": {
        "id": "3wa3byr2JUJw",
        "execution": {
          "iopub.status.busy": "2023-03-04T16:13:45.191138Z",
          "iopub.execute_input": "2023-03-04T16:13:45.192078Z",
          "iopub.status.idle": "2023-03-04T16:13:58.983290Z",
          "shell.execute_reply.started": "2023-03-04T16:13:45.192026Z",
          "shell.execute_reply": "2023-03-04T16:13:58.982167Z"
        },
        "trusted": true
      },
      "execution_count": null,
      "outputs": []
    },
    {
      "cell_type": "code",
      "source": [
        "parametrs, acc = search_hyper_p_embs_regr(StandardScaler(), LogisticRegression())\n",
        "print(parametrs, acc)\n",
        "param_1 , param_2, param_3, param_4 = parametrs.values() \n",
        "\n",
        "testing_embs(StandardScaler(), LogisticRegression(C=param_1, max_iter=param_2, penalty=param_3, solver=param_4))"
      ],
      "metadata": {
        "colab": {
          "base_uri": "https://localhost:8080/"
        },
        "outputId": "eafacc3c-cefd-45ee-f155-3fc4d35248cc",
        "id": "I2wkBUJ1JUJw"
      },
      "execution_count": null,
      "outputs": [
        {
          "output_type": "stream",
          "name": "stdout",
          "text": "{'classifier__C': 0.001, 'classifier__max_iter': 1000, 'classifier__penalty': 'l2', 'classifier__solver': 'lbfgs'} 0.7514657464776311\n\nFINAL TESTING\n\nROC AUC =  0.8137746683387235\n\naccuracy : 0.7419354838709677\n"
        }
      ]
    },
    {
      "cell_type": "markdown",
      "source": [
        "# **NAIVE BAYES**"
      ],
      "metadata": {
        "id": "flO5cdcT9k81",
        "pycharm": {
          "name": "#%% md\n"
        }
      }
    },
    {
      "cell_type": "code",
      "source": [
        "from sklearn.model_selection import GridSearchCV\n",
        "\n",
        "def search_hyper_p_embs_bayes(scaler, classifier):\n",
        "\n",
        "  model = Pipeline([\n",
        "          (\"scaler\", scaler),\n",
        "          (\"classifier\", classifier)\n",
        "      ])\n",
        "\n",
        "  # print(model.get_params().keys())\n",
        "\n",
        "  params={\n",
        "      'classifier__alpha':[0.0001, 0.001, 0.01, 0.1, 1, 2, 3, 4, 5, 10]\n",
        "  }\n",
        "\n",
        "  grid_search = GridSearchCV(model,\n",
        "                          param_grid=params,\n",
        "                          cv=5,\n",
        "                          scoring='roc_auc'\n",
        "                          #  verbose=1, \n",
        "                          )\n",
        "  with warnings.catch_warnings():\n",
        "    warnings.filterwarnings(\"ignore\")\n",
        "    grid_search.fit(train_embs, df_train[\"label\"])\n",
        "  return grid_search.best_params_, grid_search.best_score_"
      ],
      "metadata": {
        "id": "PspK1lvRhRh0",
        "pycharm": {
          "name": "#%%\n"
        }
      },
      "execution_count": null,
      "outputs": []
    },
    {
      "cell_type": "code",
      "source": [
        "def search_hyper_p_bayes(vectorizer, classifier):\n",
        "\n",
        "  model = Pipeline([\n",
        "          (\"vectorizer\", vectorizer),\n",
        "          (\"classifier\", classifier)\n",
        "      ])\n",
        "    \n",
        "  params={\n",
        "      'classifier__alpha':[0.0001, 0.001, 0.01, 0.1, 1, 2, 3, 4, 5, 10]\n",
        "  }\n",
        "\n",
        "\n",
        "  grid_search = GridSearchCV(model,\n",
        "                          param_grid=params,\n",
        "                          cv=5,\n",
        "                          verbose=1, scoring='roc_auc',\n",
        "                          )\n",
        "  with warnings.catch_warnings():\n",
        "    warnings.filterwarnings(\"ignore\")\n",
        "\n",
        "    grid_search.fit(df_train[\"text_clean\"], df_train[\"label\"])\n",
        "\n",
        "  return grid_search.best_params_, grid_search.best_score_"
      ],
      "metadata": {
        "id": "B3KQXdnjhxsF",
        "pycharm": {
          "name": "#%%\n"
        }
      },
      "execution_count": null,
      "outputs": []
    },
    {
      "cell_type": "markdown",
      "source": [
        "## BOW"
      ],
      "metadata": {
        "id": "KhoqHGWjA0CV",
        "pycharm": {
          "name": "#%% md\n"
        }
      }
    },
    {
      "cell_type": "code",
      "source": [
        "parametrs, acc = search_hyper_p_bayes(CountVectorizer(), MultinomialNB())\n",
        "print(parametrs, acc)\n",
        "param_1,  = parametrs.values() \n",
        "\n",
        "testing(CountVectorizer(), MultinomialNB(alpha = param_1))\n",
        "\n"
      ],
      "metadata": {
        "colab": {
          "base_uri": "https://localhost:8080/"
        },
        "id": "AjWwIvGyt8-J",
        "outputId": "c474179d-d6b6-48d0-b458-86b079c7e7f4",
        "pycharm": {
          "name": "#%%\n"
        }
      },
      "execution_count": null,
      "outputs": [
        {
          "output_type": "stream",
          "name": "stdout",
          "text": "Fitting 5 folds for each of 10 candidates, totalling 50 fits\n\n{'classifier__alpha': 4} 0.7302758931253667\n\nFINAL TESTING\n\nROC AUC =  0.7277407431852683\n\naccuracy : 0.5967741935483871\n"
        }
      ]
    },
    {
      "cell_type": "markdown",
      "source": [
        "## TF-IDF\n"
      ],
      "metadata": {
        "id": "5xlhwJvZxXj4",
        "pycharm": {
          "name": "#%% md\n"
        }
      }
    },
    {
      "cell_type": "code",
      "source": [
        "parametrs, acc = search_hyper_p_bayes(TfidfVectorizer(), MultinomialNB())\n",
        "print(parametrs, acc)\n",
        "param_1,  = parametrs.values() \n",
        "\n",
        "testing(CountVectorizer(), MultinomialNB(alpha = param_1))\n",
        "\n"
      ],
      "metadata": {
        "colab": {
          "base_uri": "https://localhost:8080/"
        },
        "id": "7801iUojxdI-",
        "outputId": "9404ff31-dc25-4d8f-b213-da6018150e79",
        "pycharm": {
          "name": "#%%\n"
        }
      },
      "execution_count": null,
      "outputs": [
        {
          "output_type": "stream",
          "name": "stdout",
          "text": "Fitting 5 folds for each of 10 candidates, totalling 50 fits\n\n{'classifier__alpha': 2} 0.7061650284286429\n\nFINAL TESTING\n\nROC AUC =  0.7191604514553495\n\naccuracy : 0.6290322580645161\n"
        }
      ]
    },
    {
      "cell_type": "markdown",
      "source": [
        "## SPACY "
      ],
      "metadata": {
        "id": "kCS3xrp_Idos",
        "pycharm": {
          "name": "#%% md\n"
        }
      }
    },
    {
      "cell_type": "code",
      "source": [
        "parametrs, acc = search_hyper_p_embs_bayes(MinMaxScaler(), MultinomialNB())\n",
        "print(parametrs, acc)\n",
        "param_1 , = parametrs.values() \n",
        "\n",
        "testing_embs(MinMaxScaler(), MultinomialNB(alpha=param_1))"
      ],
      "metadata": {
        "colab": {
          "base_uri": "https://localhost:8080/"
        },
        "outputId": "bfb6d06e-9e85-4490-a689-a75b8cb5a81f",
        "id": "oltDm81EIdot",
        "pycharm": {
          "name": "#%%\n"
        }
      },
      "execution_count": null,
      "outputs": [
        {
          "output_type": "stream",
          "name": "stdout",
          "text": "{'classifier__alpha': 2} 0.657255162247168\n\nFINAL TESTING\n\nROC AUC =  0.735628011352386\n\naccuracy : 0.5806451612903226\n"
        }
      ]
    },
    {
      "cell_type": "markdown",
      "source": [
        "## Sentence Transformers"
      ],
      "metadata": {
        "id": "DRnFphqh0Q6R",
        "pycharm": {
          "name": "#%% md\n"
        }
      }
    },
    {
      "cell_type": "markdown",
      "source": [
        "rubert-base-cased"
      ],
      "metadata": {
        "id": "N6NLXETldZKu"
      }
    },
    {
      "cell_type": "code",
      "source": [
        "parametrs, acc = search_hyper_p_embs_bayes(MinMaxScaler(), MultinomialNB())\n",
        "print(parametrs, acc)\n",
        "param_1 , = parametrs.values() \n",
        "\n",
        "testing_embs(MinMaxScaler(), MultinomialNB(alpha= param_1))"
      ],
      "metadata": {
        "colab": {
          "base_uri": "https://localhost:8080/"
        },
        "id": "qyA2o5Y-dMnK",
        "outputId": "d4de782d-7cb2-44ea-92f9-63785f3628bc"
      },
      "execution_count": null,
      "outputs": [
        {
          "output_type": "stream",
          "name": "stdout",
          "text": "{'classifier__alpha': 0.0001} 0.7260365576698344\n\nFINAL TESTING\n\nROC AUC =  0.7763513959474622\n\naccuracy : 0.7419354838709677\n"
        }
      ]
    },
    {
      "cell_type": "markdown",
      "source": [
        "distiluse-base-multilingual-cased-v1"
      ],
      "metadata": {
        "id": "OcmAGANDdUHp"
      }
    },
    {
      "cell_type": "code",
      "source": [
        "parametrs, acc = search_hyper_p_embs_bayes(MinMaxScaler(), MultinomialNB())\n",
        "print(parametrs, acc)\n",
        "param_1 , = parametrs.values() \n",
        "\n",
        "testing_embs(MinMaxScaler(), MultinomialNB(alpha= param_1))"
      ],
      "metadata": {
        "colab": {
          "base_uri": "https://localhost:8080/"
        },
        "outputId": "8242a341-d522-4995-8c69-140d7186dd23",
        "id": "vn5FC6JC0Q6R",
        "pycharm": {
          "name": "#%%\n"
        }
      },
      "execution_count": null,
      "outputs": [
        {
          "output_type": "stream",
          "name": "stdout",
          "text": "{'classifier__alpha': 5} 0.7332948795627308\n\nFINAL TESTING\n\nROC AUC =  0.7323939013926473\n\naccuracy : 0.6491935483870968\n"
        }
      ]
    },
    {
      "cell_type": "markdown",
      "source": [],
      "metadata": {
        "id": "Rz3dgY7K2oH2",
        "pycharm": {
          "name": "#%% md\n"
        }
      }
    },
    {
      "cell_type": "markdown",
      "source": [
        "# **GradientBoostingClassifier**"
      ],
      "metadata": {
        "id": "ucnPmcScTEIo"
      }
    },
    {
      "cell_type": "code",
      "source": [
        "from sklearn.model_selection import GridSearchCV\n",
        "\n",
        "def search_hyper_p_embs_gboost(scaler, classifier):\n",
        "\n",
        "  model = Pipeline([\n",
        "          (\"scaler\", scaler),\n",
        "          (\"classifier\", classifier)\n",
        "      ])\n",
        "\n",
        "  # print(model.get_params().keys())\n",
        "\n",
        "\n",
        "\n",
        "  params={\n",
        "      'classifier__loss':['log_loss', 'deviance', 'exponential'],\n",
        "      'classifier__learning_rate':[0.0001, 0.001, 0.01],\n",
        "      'classifier__n_estimators':[100, 1000]\n",
        "  }\n",
        "    \n",
        "\n",
        "\n",
        "  grid_search = GridSearchCV(model,\n",
        "                          param_grid=params,\n",
        "                          cv=5,\n",
        "                          scoring='roc_auc'\n",
        "                          #  verbose=1, \n",
        "                          )\n",
        "  with warnings.catch_warnings():\n",
        "    warnings.filterwarnings(\"ignore\")\n",
        "    grid_search.fit(train_embs, df_train[\"label\"])\n",
        "  return grid_search.best_params_, grid_search.best_score_"
      ],
      "metadata": {
        "execution": {
          "iopub.status.busy": "2023-03-03T20:19:56.704810Z",
          "iopub.execute_input": "2023-03-03T20:19:56.705614Z",
          "iopub.status.idle": "2023-03-03T20:19:56.712716Z",
          "shell.execute_reply.started": "2023-03-03T20:19:56.705576Z",
          "shell.execute_reply": "2023-03-03T20:19:56.711343Z"
        },
        "trusted": true,
        "id": "KeI9l_VduC8D"
      },
      "execution_count": null,
      "outputs": []
    },
    {
      "cell_type": "code",
      "source": [
        "def search_hyper_p_gboost(vectorizer, classifier):\n",
        "\n",
        "  model = Pipeline([\n",
        "          (\"vectorizer\", vectorizer),\n",
        "          (\"classifier\", classifier)\n",
        "      ])\n",
        "  \n",
        "  params={\n",
        "      'classifier__loss':['log_loss', 'deviance', 'exponential'],\n",
        "      'classifier__learning_rate':[0.0001, 0.001, 0.01, 0.1, 1],\n",
        "      'classifier__n_estimators':[10, 100, 1000, 10000]\n",
        "  }\n",
        "  \n",
        "\n",
        "  grid_search = GridSearchCV(model,\n",
        "                          param_grid=params,\n",
        "                          cv=5,\n",
        "                          verbose=1, scoring='roc_auc',\n",
        "                          )\n",
        "  with warnings.catch_warnings():\n",
        "    warnings.filterwarnings(\"ignore\")\n",
        "\n",
        "    grid_search.fit(df_train[\"text_clean\"], df_train[\"label\"])\n",
        "\n",
        "  return grid_search.best_params_, grid_search.best_score_"
      ],
      "metadata": {
        "id": "C4RKjbStuC8E"
      },
      "execution_count": null,
      "outputs": []
    },
    {
      "cell_type": "markdown",
      "source": [
        "## Sentence Transformers"
      ],
      "metadata": {
        "id": "RRO-FdVTTcZw"
      }
    },
    {
      "cell_type": "markdown",
      "source": [
        "rubert-base-cased"
      ],
      "metadata": {
        "id": "q4X6pOIgvceg"
      }
    },
    {
      "cell_type": "code",
      "source": [
        "from sklearn.ensemble import GradientBoostingClassifier"
      ],
      "metadata": {
        "id": "Hfbbmp2xT2sJ"
      },
      "execution_count": null,
      "outputs": []
    },
    {
      "cell_type": "code",
      "source": [
        "parametrs, acc = search_hyper_p_embs_gboost(StandardScaler(), GradientBoostingClassifier())\n",
        "print(parametrs, acc)\n",
        "param_1 , param_2, param_3 = parametrs.values() \n",
        "\n"
      ],
      "metadata": {
        "id": "t60lf790TunZ",
        "execution": {
          "iopub.status.busy": "2023-03-03T20:20:15.860013Z",
          "iopub.execute_input": "2023-03-03T20:20:15.860394Z",
          "iopub.status.idle": "2023-03-03T21:38:35.960481Z",
          "shell.execute_reply.started": "2023-03-03T20:20:15.860355Z",
          "shell.execute_reply": "2023-03-03T21:38:35.959351Z"
        },
        "trusted": true,
        "outputId": "3be07445-7ec7-4050-b36d-5aab80609277"
      },
      "execution_count": null,
      "outputs": [
        {
          "name": "stdout",
          "text": "{'classifier__learning_rate': 0.01, 'classifier__loss': 'deviance', 'classifier__n_estimators': 1000} 0.7216369721958856\n",
          "output_type": "stream"
        }
      ]
    },
    {
      "cell_type": "code",
      "source": [
        "testing_embs(StandardScaler(), GradientBoostingClassifier(loss=param_2, learning_rate=param_1, n_estimators=param_3))"
      ],
      "metadata": {
        "execution": {
          "iopub.status.busy": "2023-03-03T21:39:23.472249Z",
          "iopub.execute_input": "2023-03-03T21:39:23.473569Z",
          "iopub.status.idle": "2023-03-03T21:42:22.870377Z",
          "shell.execute_reply.started": "2023-03-03T21:39:23.473521Z",
          "shell.execute_reply": "2023-03-03T21:42:22.869304Z"
        },
        "trusted": true,
        "id": "UyUa7hBuuC8K",
        "outputId": "87c3842d-b98e-4e94-c0cb-a45cd076e3b4"
      },
      "execution_count": null,
      "outputs": [
        {
          "name": "stdout",
          "text": "FINAL TESTING\nROC AUC =  0.777407431852683\naccuracy : 0.6895161290322581\n",
          "output_type": "stream"
        }
      ]
    },
    {
      "cell_type": "markdown",
      "source": [
        "# **SVM**"
      ],
      "metadata": {
        "id": "pU4RDYRaYm9W"
      }
    },
    {
      "cell_type": "code",
      "source": [
        "from sklearn.model_selection import GridSearchCV\n",
        "\n",
        "def search_hyper_p_embs_SVM(scaler, classifier):\n",
        "\n",
        "  model = Pipeline([\n",
        "          (\"scaler\", scaler),\n",
        "          (\"classifier\", classifier)\n",
        "      ])\n",
        "\n",
        "  # print(model.get_params().keys())\n",
        "\n",
        "\n",
        "\n",
        "  params={\n",
        "      'classifier__C':[0.1, 1, 10],\n",
        "      'classifier__kernel':['linear', 'poly', 'rbf', 'sigmoid', 'precomputed'],\n",
        "      'classifier__degree':[2, 3, 4, 5],\n",
        "      'classifier__gamma':['scale', 'auto']\n",
        "  }\n",
        "    \n",
        "\n",
        "\n",
        "  grid_search = GridSearchCV(model,\n",
        "                          param_grid=params,\n",
        "                          cv=5,\n",
        "                          scoring='roc_auc'\n",
        "                          #  verbose=1, \n",
        "                          )\n",
        "  with warnings.catch_warnings():\n",
        "    warnings.filterwarnings(\"ignore\")\n",
        "    grid_search.fit(train_embs, df_train[\"label\"])\n",
        "  return grid_search.best_params_, grid_search.best_score_"
      ],
      "metadata": {
        "id": "WXbauShyYrRm",
        "execution": {
          "iopub.status.busy": "2023-03-04T14:43:47.811475Z",
          "iopub.execute_input": "2023-03-04T14:43:47.812540Z",
          "iopub.status.idle": "2023-03-04T14:43:47.821377Z",
          "shell.execute_reply.started": "2023-03-04T14:43:47.812502Z",
          "shell.execute_reply": "2023-03-04T14:43:47.820318Z"
        },
        "trusted": true
      },
      "execution_count": null,
      "outputs": []
    },
    {
      "cell_type": "code",
      "source": [
        "def search_hyper_p_SVM(vectorizer, classifier):\n",
        "\n",
        "  model = Pipeline([\n",
        "          (\"vectorizer\", vectorizer),\n",
        "          (\"classifier\", classifier)\n",
        "      ])\n",
        "  \n",
        "  params={\n",
        "       'classifier__C':[0.1, 1, 10],\n",
        "      'classifier__kernel':['linear', 'poly', 'rbf', 'sigmoid', 'precomputed'],\n",
        "      'classifier__degree':[2, 3, 4, 5]\n",
        "  }\n",
        "  \n",
        "\n",
        "  grid_search = GridSearchCV(model,\n",
        "                          param_grid=params,\n",
        "                          cv=5,\n",
        "                          verbose=1, scoring='roc_auc',\n",
        "                          )\n",
        "  with warnings.catch_warnings():\n",
        "    warnings.filterwarnings(\"ignore\")\n",
        "\n",
        "    grid_search.fit(df_train[\"text_clean\"], df_train[\"label\"])\n",
        "\n",
        "  return grid_search.best_params_, grid_search.best_score_"
      ],
      "metadata": {
        "id": "ejBlVJtrY02w",
        "execution": {
          "iopub.status.busy": "2023-03-03T19:01:16.087965Z",
          "iopub.execute_input": "2023-03-03T19:01:16.088637Z",
          "iopub.status.idle": "2023-03-03T19:01:16.095874Z",
          "shell.execute_reply.started": "2023-03-03T19:01:16.088600Z",
          "shell.execute_reply": "2023-03-03T19:01:16.094650Z"
        },
        "trusted": true
      },
      "execution_count": null,
      "outputs": []
    },
    {
      "cell_type": "markdown",
      "source": [
        "## **BOW**"
      ],
      "metadata": {
        "id": "SeRtQUzHuC8L"
      }
    },
    {
      "cell_type": "code",
      "source": [
        "parametrs, acc = search_hyper_p_SVM(CountVectorizer(), SVC())\n",
        "print(parametrs, acc)\n",
        "param_1, param_2, param_3 = parametrs.values() \n",
        "\n",
        "testing(CountVectorizer(), SVC(C = param_1, degree= param_2, kernel=param_3, probability=True))"
      ],
      "metadata": {
        "execution": {
          "iopub.status.busy": "2023-03-03T19:29:22.507127Z",
          "iopub.execute_input": "2023-03-03T19:29:22.507804Z",
          "iopub.status.idle": "2023-03-03T19:30:05.674502Z",
          "shell.execute_reply.started": "2023-03-03T19:29:22.507765Z",
          "shell.execute_reply": "2023-03-03T19:30:05.673234Z"
        },
        "trusted": true,
        "id": "7MEauaiduC8L",
        "outputId": "d3918eb0-ecdd-4536-e693-2f186be07bcf"
      },
      "execution_count": null,
      "outputs": [
        {
          "name": "stdout",
          "text": "Fitting 5 folds for each of 60 candidates, totalling 300 fits\n{'classifier__C': 1, 'classifier__degree': 2, 'classifier__kernel': 'rbf'} 0.7139053998632946\nFINAL TESTING\nROC AUC =  0.7387961190680483\naccuracy : 0.6854838709677419\n",
          "output_type": "stream"
        }
      ]
    },
    {
      "cell_type": "markdown",
      "source": [
        "## **TF-IDF**"
      ],
      "metadata": {
        "id": "P1xtbtJSuC8M"
      }
    },
    {
      "cell_type": "code",
      "source": [
        "parametrs, acc = search_hyper_p_SVM(TfidfVectorizer(), SVC())\n",
        "print(parametrs, acc)\n",
        "param_1, param_2, param_3 = parametrs.values() \n",
        "\n",
        "testing(TfidfVectorizer(), SVC(C = param_1, degree= param_2, kernel=param_3, probability=True))"
      ],
      "metadata": {
        "execution": {
          "iopub.status.busy": "2023-03-03T19:34:44.168688Z",
          "iopub.execute_input": "2023-03-03T19:34:44.169058Z",
          "iopub.status.idle": "2023-03-03T19:35:31.810979Z",
          "shell.execute_reply.started": "2023-03-03T19:34:44.169028Z",
          "shell.execute_reply": "2023-03-03T19:35:31.809786Z"
        },
        "trusted": true,
        "id": "WIAfLLxquC8M",
        "outputId": "5e48877a-9d57-4508-e80e-c7a1c8b564d9"
      },
      "execution_count": null,
      "outputs": [
        {
          "name": "stdout",
          "text": "Fitting 5 folds for each of 60 candidates, totalling 300 fits\n{'classifier__C': 1, 'classifier__degree': 2, 'classifier__kernel': 'linear'} 0.6884823319295306\nFINAL TESTING\nROC AUC =  0.6836842452643389\naccuracy : 0.6612903225806451\n",
          "output_type": "stream"
        }
      ]
    },
    {
      "cell_type": "markdown",
      "source": [
        "## **Sentence Transformers**"
      ],
      "metadata": {
        "id": "dqqL9UiAuC8M"
      }
    },
    {
      "cell_type": "markdown",
      "source": [
        "rubert-base-cased"
      ],
      "metadata": {
        "id": "8t2CtMnmv2e1"
      }
    },
    {
      "cell_type": "code",
      "source": [
        "from sklearn.svm import SVC\n"
      ],
      "metadata": {
        "execution": {
          "iopub.status.busy": "2023-03-04T14:44:12.848763Z",
          "iopub.execute_input": "2023-03-04T14:44:12.849126Z",
          "iopub.status.idle": "2023-03-04T14:44:12.854550Z",
          "shell.execute_reply.started": "2023-03-04T14:44:12.849095Z",
          "shell.execute_reply": "2023-03-04T14:44:12.853453Z"
        },
        "trusted": true,
        "id": "yTSFKbD7uC8M"
      },
      "execution_count": null,
      "outputs": []
    },
    {
      "cell_type": "code",
      "source": [
        "parametrs, acc = search_hyper_p_embs_SVM(StandardScaler(), SVC())\n",
        "print(parametrs, acc)\n",
        "param_1 , param_2, param_3, param_4 = parametrs.values() \n",
        "\n",
        "testing_embs(StandardScaler(), SVC(C=param_1, degree=param_2, gamma=param_3, kernel = param_4,probability=True))"
      ],
      "metadata": {
        "execution": {
          "iopub.status.busy": "2023-03-03T19:42:29.102773Z",
          "iopub.execute_input": "2023-03-03T19:42:29.103480Z",
          "iopub.status.idle": "2023-03-03T19:44:38.138722Z",
          "shell.execute_reply.started": "2023-03-03T19:42:29.103440Z",
          "shell.execute_reply": "2023-03-03T19:44:38.137494Z"
        },
        "trusted": true,
        "id": "eFdj7fQZuC8N",
        "outputId": "7a85aaa7-5fbd-4f3f-fee8-1e4b8e2802be"
      },
      "execution_count": null,
      "outputs": [
        {
          "name": "stdout",
          "text": "{'classifier__C': 1, 'classifier__degree': 2, 'classifier__gamma': 'scale', 'classifier__kernel': 'rbf'} 0.7478529138094504\nFINAL TESTING\nROC AUC =  0.8172727872747673\naccuracy : 0.7379032258064516\n",
          "output_type": "stream"
        }
      ]
    },
    {
      "cell_type": "code",
      "source": [
        "# another preprocess without gensim \n",
        "parametrs, acc = search_hyper_p_embs_SVM(StandardScaler(), SVC())\n",
        "print(parametrs, acc)\n",
        "param_1 , param_2, param_3, param_4 = parametrs.values() \n",
        "\n",
        "testing_embs(StandardScaler(), SVC(C=param_1, degree=param_2, gamma=param_3, kernel = param_4,probability=True))"
      ],
      "metadata": {
        "execution": {
          "iopub.status.busy": "2023-03-04T16:42:36.778631Z",
          "iopub.execute_input": "2023-03-04T16:42:36.779564Z",
          "iopub.status.idle": "2023-03-04T16:44:37.867543Z",
          "shell.execute_reply.started": "2023-03-04T16:42:36.779515Z",
          "shell.execute_reply": "2023-03-04T16:44:37.866432Z"
        },
        "trusted": true,
        "id": "_dpWi3F2uC8O",
        "outputId": "e5f8bffa-0763-4383-929f-dc544a1142e0"
      },
      "execution_count": null,
      "outputs": [
        {
          "name": "stdout",
          "text": "{'classifier__C': 1, 'classifier__degree': 2, 'classifier__gamma': 'scale', 'classifier__kernel': 'rbf'} 0.748324803210372\nFINAL TESTING\nROC AUC =  0.8080324731040855\naccuracy : 0.7258064516129032\n",
          "output_type": "stream"
        }
      ]
    },
    {
      "cell_type": "markdown",
      "source": [
        "sbert_large_mt_nlu_ru"
      ],
      "metadata": {
        "id": "N8Jtbqp9xE_p"
      }
    },
    {
      "cell_type": "code",
      "source": [
        "parametrs, acc = search_hyper_p_embs_SVM(StandardScaler(), SVC())\n",
        "print(parametrs, acc)\n",
        "param_1 , param_2, param_3, param_4 = parametrs.values() \n",
        "\n",
        "testing_embs(StandardScaler(), SVC(C=param_1, degree=param_2, gamma=param_3, kernel = param_4,probability=True))"
      ],
      "metadata": {
        "id": "-x2JLSjIxF38"
      },
      "execution_count": null,
      "outputs": []
    },
    {
      "cell_type": "markdown",
      "source": [
        "{'classifier__C': 1, 'classifier__degree': 2, 'classifier__gamma': 'scale', 'classifier__kernel': 'rbf'} 0.7844463122615923\n",
        "\n",
        "FINAL TESTING\n",
        "\n",
        "ROC AUC =  0.8040723384595075\n",
        "\n",
        "accuracy : 0.7096774193548387"
      ],
      "metadata": {
        "id": "bUIwTgiwz9r5"
      }
    },
    {
      "cell_type": "markdown",
      "source": [
        "distiluse-base-multilingual-cased-v1"
      ],
      "metadata": {
        "id": "RBeYeAKR2GlN"
      }
    },
    {
      "cell_type": "code",
      "source": [
        "parametrs, acc = search_hyper_p_embs_SVM(StandardScaler(), SVC())\n",
        "print(parametrs, acc)\n",
        "param_1 , param_2, param_3, param_4 = parametrs.values() \n",
        "\n",
        "testing_embs(StandardScaler(), SVC(C=param_1, degree=param_2, gamma=param_3, kernel = param_4,probability=True))"
      ],
      "metadata": {
        "id": "N1pNDCXs2P9Q"
      },
      "execution_count": null,
      "outputs": []
    },
    {
      "cell_type": "markdown",
      "source": [
        "{'classifier__C': 1, 'classifier__degree': 2, 'classifier__gamma': 'scale', 'classifier__kernel': 'rbf'} 0.7410965713403745\n",
        "\n",
        "FINAL TESTING\n",
        "\n",
        "ROC AUC =  0.7725232657910369\n",
        "\n",
        "accuracy : 0.6854838709677419"
      ],
      "metadata": {
        "id": "n7lcZ87T2VW9"
      }
    },
    {
      "cell_type": "markdown",
      "source": [
        "# **1. Combination of Sentence Transformers and Logistic Regression gives better results than others algorithms**"
      ],
      "metadata": {
        "id": "AEi0KzGh2p9W",
        "pycharm": {
          "name": "#%% md\n"
        }
      }
    },
    {
      "cell_type": "markdown",
      "source": [
        "**distiluse-base-multilingual-cased-v1**"
      ],
      "metadata": {
        "id": "Uh9FFTGUuC8P"
      }
    },
    {
      "cell_type": "markdown",
      "source": [
        "result only on train data"
      ],
      "metadata": {
        "id": "8pZNmHYQiM87"
      }
    },
    {
      "cell_type": "code",
      "source": [
        "import pickle\n",
        "\n",
        "parametrs, acc = search_hyper_p_embs_regr(StandardScaler(), LogisticRegression())\n",
        "print(parametrs, acc)\n",
        "param_1 , param_2, param_3, param_4 = parametrs.values() \n",
        "\n",
        "model = Pipeline([\n",
        "        (\"scaler\", StandardScaler()),\n",
        "        (\"classifier\",  LogisticRegression(C=param_1, max_iter=param_2, penalty=param_3, solver=param_4))\n",
        "    ])\n",
        "model.fit(train_embs, df_train[\"label\"])\n",
        "\n",
        "name = 'regression_transf_standard.pkl'\n",
        "pickle.dump(model, open(name, 'wb'))\n"
      ],
      "metadata": {
        "colab": {
          "base_uri": "https://localhost:8080/"
        },
        "id": "uT8lTAwO2_ne",
        "outputId": "11e23b0c-2cbe-4f3e-838c-f701705f024a",
        "pycharm": {
          "name": "#%%\n"
        }
      },
      "execution_count": null,
      "outputs": [
        {
          "output_type": "stream",
          "name": "stdout",
          "text": "{'classifier__C': 0.001, 'classifier__max_iter': 1000, 'classifier__penalty': 'l2', 'classifier__solver': 'lbfgs'} 0.7571054341830454\n"
        }
      ]
    },
    {
      "cell_type": "code",
      "source": [
        "import pickle\n",
        "\n",
        "name = 'regression_transf_standard.pkl'\n",
        "\n",
        "loaded_model = pickle.load(open(name, 'rb'))\n",
        "y_pred = loaded_model.predict_proba(test_embs)[:,1]\n",
        "print(\"FINAL TESTING\")\n",
        "print(\"ROC AUC = \",roc_auc_score(df_test[\"label\"].values,  y_pred))\n",
        "print(\"accuracy :\" ,accuracy_score(df_test[\"label\"].values, loaded_model.predict(test_embs)))"
      ],
      "metadata": {
        "colab": {
          "base_uri": "https://localhost:8080/"
        },
        "id": "8FJNdigv3-4R",
        "outputId": "d1a8946f-1af4-4c7b-fdfa-0b95ec08a8b6",
        "pycharm": {
          "name": "#%%\n"
        }
      },
      "execution_count": null,
      "outputs": [
        {
          "output_type": "stream",
          "name": "stdout",
          "text": "FINAL TESTING\n\nROC AUC =  0.7733152927199525\n\naccuracy : 0.6895161290322581\n"
        }
      ]
    },
    {
      "cell_type": "markdown",
      "source": [
        "result on train + val dataset"
      ],
      "metadata": {
        "id": "U_LJ7p0fiSgT"
      }
    },
    {
      "cell_type": "code",
      "source": [
        "import pickle\n",
        "\n",
        "parametrs, acc = search_hyper_p_embs_regr(StandardScaler(), LogisticRegression())\n",
        "print(parametrs, acc)\n",
        "param_1 , param_2, param_3, param_4 = parametrs.values() \n",
        "\n",
        "model = Pipeline([\n",
        "        (\"scaler\", StandardScaler()),\n",
        "        (\"classifier\",  LogisticRegression(C=param_1, max_iter=param_2, penalty=param_3, solver='lbfgs'))\n",
        "    ])\n",
        "model.fit(train_embs, df_train[\"label\"])\n",
        "\n",
        "name = 'regression_transf_standard.pkl'\n",
        "pickle.dump(model, open(name, 'wb'))\n"
      ],
      "metadata": {
        "colab": {
          "base_uri": "https://localhost:8080/"
        },
        "id": "-Gx7R_HkiVel",
        "outputId": "914131cf-9cfa-46ef-d1d5-3f668826920f"
      },
      "execution_count": null,
      "outputs": [
        {
          "output_type": "stream",
          "name": "stdout",
          "text": "{'classifier__C': 0.001, 'classifier__max_iter': 1000, 'classifier__penalty': 'l2', 'classifier__solver': 'lbfgs'} 0.7528724979604436\n"
        }
      ]
    },
    {
      "cell_type": "code",
      "source": [
        "import pickle\n",
        "\n",
        "name = 'regression_transf_standard.pkl'\n",
        "\n",
        "loaded_model = pickle.load(open(name, 'rb'))\n",
        "y_pred = loaded_model.predict_proba(test_embs)[:,1]\n",
        "print(\"FINAL TESTING\")\n",
        "print(\"ROC AUC = \",roc_auc_score(df_test[\"label\"].values,  y_pred))\n",
        "print(\"accuracy :\" ,accuracy_score(df_test[\"label\"].values, loaded_model.predict(test_embs)))"
      ],
      "metadata": {
        "colab": {
          "base_uri": "https://localhost:8080/"
        },
        "id": "prdHOKfwib7z",
        "outputId": "14f30511-496a-474f-9a2c-f215e12a3ee4"
      },
      "execution_count": null,
      "outputs": [
        {
          "output_type": "stream",
          "name": "stdout",
          "text": "FINAL TESTING\n\nROC AUC =  0.7768794139000726\n\naccuracy : 0.6895161290322581\n"
        }
      ]
    },
    {
      "cell_type": "markdown",
      "source": [
        "**rubert-base-cased**"
      ],
      "metadata": {
        "id": "jUx9_hbA2oL7"
      }
    },
    {
      "cell_type": "code",
      "source": [
        "import pickle\n",
        "\n",
        "parametrs, acc = search_hyper_p_embs_regr(StandardScaler(), LogisticRegression())\n",
        "print(parametrs, acc)\n",
        "param_1 , param_2, param_3, param_4 = parametrs.values() \n",
        "\n",
        "model = Pipeline([\n",
        "        (\"scaler\", StandardScaler()),\n",
        "        (\"classifier\",  LogisticRegression(C=param_1, max_iter=param_2, penalty=param_3, solver=param_4))\n",
        "    ])\n",
        "model.fit(train_embs, df_train[\"label\"])\n",
        "\n",
        "name = 'regression_transf_standard_2.pkl'\n",
        "pickle.dump(model, open(name, 'wb'))\n",
        "\n",
        "import pickle\n",
        "\n",
        "name = 'regression_transf_standard_2.pkl'\n",
        "\n",
        "loaded_model = pickle.load(open(name, 'rb'))\n",
        "y_pred = loaded_model.predict_proba(test_embs)[:,1]\n",
        "print(\"FINAL TESTING\")\n",
        "print(\"ROC AUC = \",roc_auc_score(df_test[\"label\"].values,  y_pred))\n",
        "print(\"accuracy :\" ,accuracy_score(df_test[\"label\"].values, loaded_model.predict(test_embs)))\n"
      ],
      "metadata": {
        "id": "wVL-IzFj2uUS"
      },
      "execution_count": null,
      "outputs": []
    },
    {
      "cell_type": "markdown",
      "source": [
        "{'classifier__C': 0.001, 'classifier__max_iter': 1000, 'classifier__penalty': 'l2', 'classifier__solver': 'lbfgs'} 0.7514657464776311\n",
        "\n",
        "FINAL TESTING\n",
        "\n",
        "ROC AUC =  0.8137746683387235\n",
        "\n",
        "accuracy : 0.7419354838709677"
      ],
      "metadata": {
        "id": "jJcrgOk53mkD"
      }
    },
    {
      "cell_type": "markdown",
      "source": [
        "# **2**. **Combination of Sentence Transformers and SVM gives the best result**"
      ],
      "metadata": {
        "id": "Ym03DpqJ1hLv"
      }
    },
    {
      "cell_type": "markdown",
      "source": [
        "DeepPavlov/rubert-base-cased"
      ],
      "metadata": {
        "id": "dc0dFCT8uC8Q"
      }
    },
    {
      "cell_type": "code",
      "source": [
        "import pickle\n",
        "\n",
        "parametrs, acc = search_hyper_p_embs_SVM(StandardScaler(), SVC())\n",
        "print(parametrs, acc)\n",
        "param_1 , param_2, param_3, param_4 = parametrs.values() \n",
        "\n",
        "model = Pipeline([\n",
        "        (\"scaler\", StandardScaler()),\n",
        "        (\"classifier\",  SVC(C=param_1, degree=param_2, gamma=param_3, kernel = param_4,probability=True))\n",
        "    ])\n",
        "model.fit(train_embs, df_train[\"label\"])\n",
        "\n",
        "name = 'svm_transf_standard.pkl'\n",
        "pickle.dump(model, open(name, 'wb'))\n"
      ],
      "metadata": {
        "execution": {
          "iopub.status.busy": "2023-03-04T17:36:26.349201Z",
          "iopub.execute_input": "2023-03-04T17:36:26.350017Z",
          "iopub.status.idle": "2023-03-04T17:38:29.128727Z",
          "shell.execute_reply.started": "2023-03-04T17:36:26.349978Z",
          "shell.execute_reply": "2023-03-04T17:38:29.127622Z"
        },
        "trusted": true,
        "id": "HclR4bt0uC8R",
        "outputId": "db694e42-334d-4fa2-e238-2da826300686"
      },
      "execution_count": null,
      "outputs": [
        {
          "name": "stdout",
          "text": "{'classifier__C': 1, 'classifier__degree': 2, 'classifier__gamma': 'scale', 'classifier__kernel': 'rbf'} 0.7478529138094504\n",
          "output_type": "stream"
        }
      ]
    },
    {
      "cell_type": "code",
      "source": [
        "import pickle\n",
        "\n",
        "name = 'svm_transf_standard.pkl'\n",
        "\n",
        "loaded_model = pickle.load(open(name, 'rb'))\n",
        "y_pred = loaded_model.predict_proba(test_embs)[:,1]\n",
        "print(\"FINAL TESTING\")\n",
        "print(\"ROC AUC = \",roc_auc_score(df_test[\"label\"].values,  y_pred))\n",
        "print(\"accuracy :\" ,accuracy_score(df_test[\"label\"].values, loaded_model.predict(test_embs)))"
      ],
      "metadata": {
        "execution": {
          "iopub.status.busy": "2023-03-04T17:39:04.001620Z",
          "iopub.execute_input": "2023-03-04T17:39:04.002326Z",
          "iopub.status.idle": "2023-03-04T17:39:04.219090Z",
          "shell.execute_reply.started": "2023-03-04T17:39:04.002289Z",
          "shell.execute_reply": "2023-03-04T17:39:04.217968Z"
        },
        "trusted": true,
        "id": "CS-mYo88uC8R",
        "outputId": "bd00f054-92ca-496c-8a43-0fdf1ad59064"
      },
      "execution_count": null,
      "outputs": [
        {
          "name": "stdout",
          "text": "FINAL TESTING\nROC AUC =  0.8174047917629199\naccuracy : 0.7379032258064516\n",
          "output_type": "stream"
        }
      ]
    }
  ]
}